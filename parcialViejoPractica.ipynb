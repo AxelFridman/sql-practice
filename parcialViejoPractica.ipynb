{
    "metadata": {
        "kernelspec": {
            "name": "SQL",
            "display_name": "SQL",
            "language": "sql"
        },
        "language_info": {
            "name": "sql",
            "version": ""
        }
    },
    "nbformat_minor": 2,
    "nbformat": 4,
    "cells": [
        {
            "cell_type": "code",
            "source": [
                "--1. Obtener la facturación anual por país.\r\n",
                "SELECT i.BillingCountry, YEAR(i.InvoiceDate),sum(i.total)\r\n",
                "from Invoice i\r\n",
                "GROUP BY i.BillingCountry, YEAR( i.InvoiceDate)"
            ],
            "metadata": {
                "azdata_cell_guid": "0ca0c5b2-0afe-4248-b715-13d54a016d99",
                "language": "sql"
            },
            "outputs": [
                {
                    "output_type": "display_data",
                    "data": {
                        "text/html": "(101 rows affected)"
                    },
                    "metadata": {}
                },
                {
                    "output_type": "display_data",
                    "data": {
                        "text/html": "Total execution time: 00:00:00.033"
                    },
                    "metadata": {}
                },
                {
                    "output_type": "execute_result",
                    "execution_count": 9,
                    "data": {
                        "application/vnd.dataresource+json": {
                            "schema": {
                                "fields": [
                                    {
                                        "name": "BillingCountry"
                                    },
                                    {
                                        "name": "(No column name)"
                                    },
                                    {
                                        "name": "(No column name)"
                                    }
                                ]
                            },
                            "data": [
                                {
                                    "0": "Australia",
                                    "1": "2009",
                                    "2": "11.88"
                                },
                                {
                                    "0": "Austria",
                                    "1": "2009",
                                    "2": "1.98"
                                },
                                {
                                    "0": "Belgium",
                                    "1": "2009",
                                    "2": "6.93"
                                },
                                {
                                    "0": "Brazil",
                                    "1": "2009",
                                    "2": "37.62"
                                },
                                {
                                    "0": "Canada",
                                    "1": "2009",
                                    "2": "57.42"
                                },
                                {
                                    "0": "Chile",
                                    "1": "2009",
                                    "2": "15.84"
                                },
                                {
                                    "0": "Czech Republic",
                                    "1": "2009",
                                    "2": "10.89"
                                },
                                {
                                    "0": "Denmark",
                                    "1": "2009",
                                    "2": "5.94"
                                },
                                {
                                    "0": "Finland",
                                    "1": "2009",
                                    "2": "8.91"
                                },
                                {
                                    "0": "France",
                                    "1": "2009",
                                    "2": "35.64"
                                },
                                {
                                    "0": "Germany",
                                    "1": "2009",
                                    "2": "53.46"
                                },
                                {
                                    "0": "India",
                                    "1": "2009",
                                    "2": "9.90"
                                },
                                {
                                    "0": "Ireland",
                                    "1": "2009",
                                    "2": "6.93"
                                },
                                {
                                    "0": "Italy",
                                    "1": "2009",
                                    "2": "1.98"
                                },
                                {
                                    "0": "Netherlands",
                                    "1": "2009",
                                    "2": "8.91"
                                },
                                {
                                    "0": "Norway",
                                    "1": "2009",
                                    "2": "10.89"
                                },
                                {
                                    "0": "Poland",
                                    "1": "2009",
                                    "2": "15.84"
                                },
                                {
                                    "0": "Portugal",
                                    "1": "2009",
                                    "2": "11.88"
                                },
                                {
                                    "0": "Spain",
                                    "1": "2009",
                                    "2": "0.99"
                                },
                                {
                                    "0": "Sweden",
                                    "1": "2009",
                                    "2": "5.94"
                                },
                                {
                                    "0": "United Kingdom",
                                    "1": "2009",
                                    "2": "25.74"
                                },
                                {
                                    "0": "USA",
                                    "1": "2009",
                                    "2": "103.95"
                                },
                                {
                                    "0": "Argentina",
                                    "1": "2010",
                                    "2": "11.88"
                                },
                                {
                                    "0": "Australia",
                                    "1": "2010",
                                    "2": "0.99"
                                },
                                {
                                    "0": "Austria",
                                    "1": "2010",
                                    "2": "27.77"
                                },
                                {
                                    "0": "Brazil",
                                    "1": "2010",
                                    "2": "41.60"
                                },
                                {
                                    "0": "Canada",
                                    "1": "2010",
                                    "2": "76.26"
                                },
                                {
                                    "0": "Chile",
                                    "1": "2010",
                                    "2": "17.91"
                                },
                                {
                                    "0": "Czech Republic",
                                    "1": "2010",
                                    "2": "9.90"
                                },
                                {
                                    "0": "Denmark",
                                    "1": "2010",
                                    "2": "6.93"
                                },
                                {
                                    "0": "France",
                                    "1": "2010",
                                    "2": "39.60"
                                },
                                {
                                    "0": "Germany",
                                    "1": "2010",
                                    "2": "25.74"
                                },
                                {
                                    "0": "Hungary",
                                    "1": "2010",
                                    "2": "32.75"
                                },
                                {
                                    "0": "India",
                                    "1": "2010",
                                    "2": "17.83"
                                },
                                {
                                    "0": "Italy",
                                    "1": "2010",
                                    "2": "10.89"
                                },
                                {
                                    "0": "Netherlands",
                                    "1": "2010",
                                    "2": "1.98"
                                },
                                {
                                    "0": "Poland",
                                    "1": "2010",
                                    "2": "8.91"
                                },
                                {
                                    "0": "Portugal",
                                    "1": "2010",
                                    "2": "6.93"
                                },
                                {
                                    "0": "Spain",
                                    "1": "2010",
                                    "2": "1.98"
                                },
                                {
                                    "0": "Sweden",
                                    "1": "2010",
                                    "2": "7.93"
                                },
                                {
                                    "0": "United Kingdom",
                                    "1": "2010",
                                    "2": "30.69"
                                },
                                {
                                    "0": "USA",
                                    "1": "2010",
                                    "2": "102.98"
                                },
                                {
                                    "0": "Argentina",
                                    "1": "2011",
                                    "2": "0.99"
                                },
                                {
                                    "0": "Australia",
                                    "1": "2011",
                                    "2": "1.98"
                                },
                                {
                                    "0": "Belgium",
                                    "1": "2011",
                                    "2": "24.75"
                                },
                                {
                                    "0": "Brazil",
                                    "1": "2011",
                                    "2": "19.80"
                                },
                                {
                                    "0": "Canada",
                                    "1": "2011",
                                    "2": "55.44"
                                },
                                {
                                    "0": "Chile",
                                    "1": "2011",
                                    "2": "5.94"
                                },
                                {
                                    "0": "Czech Republic",
                                    "1": "2011",
                                    "2": "12.87"
                                },
                                {
                                    "0": "Finland",
                                    "1": "2011",
                                    "2": "15.88"
                                },
                                {
                                    "0": "France",
                                    "1": "2011",
                                    "2": "42.61"
                                },
                                {
                                    "0": "Germany",
                                    "1": "2011",
                                    "2": "48.57"
                                },
                                {
                                    "0": "India",
                                    "1": "2011",
                                    "2": "24.75"
                                },
                                {
                                    "0": "Ireland",
                                    "1": "2011",
                                    "2": "32.75"
                                },
                                {
                                    "0": "Netherlands",
                                    "1": "2011",
                                    "2": "12.90"
                                },
                                {
                                    "0": "Norway",
                                    "1": "2011",
                                    "2": "17.84"
                                },
                                {
                                    "0": "Portugal",
                                    "1": "2011",
                                    "2": "8.91"
                                },
                                {
                                    "0": "Spain",
                                    "1": "2011",
                                    "2": "22.77"
                                },
                                {
                                    "0": "United Kingdom",
                                    "1": "2011",
                                    "2": "17.82"
                                },
                                {
                                    "0": "USA",
                                    "1": "2011",
                                    "2": "103.01"
                                },
                                {
                                    "0": "Australia",
                                    "1": "2012",
                                    "2": "22.77"
                                },
                                {
                                    "0": "Austria",
                                    "1": "2012",
                                    "2": "11.88"
                                },
                                {
                                    "0": "Brazil",
                                    "1": "2012",
                                    "2": "53.46"
                                },
                                {
                                    "0": "Canada",
                                    "1": "2012",
                                    "2": "42.57"
                                },
                                {
                                    "0": "Chile",
                                    "1": "2012",
                                    "2": "6.93"
                                },
                                {
                                    "0": "Czech Republic",
                                    "1": "2012",
                                    "2": "19.83"
                                },
                                {
                                    "0": "Denmark",
                                    "1": "2012",
                                    "2": "15.84"
                                },
                                {
                                    "0": "Finland",
                                    "1": "2012",
                                    "2": "0.99"
                                },
                                {
                                    "0": "France",
                                    "1": "2012",
                                    "2": "36.66"
                                },
                                {
                                    "0": "Germany",
                                    "1": "2012",
                                    "2": "18.81"
                                },
                                {
                                    "0": "Hungary",
                                    "1": "2012",
                                    "2": "11.88"
                                },
                                {
                                    "0": "India",
                                    "1": "2012",
                                    "2": "10.89"
                                },
                                {
                                    "0": "Italy",
                                    "1": "2012",
                                    "2": "15.84"
                                },
                                {
                                    "0": "Netherlands",
                                    "1": "2012",
                                    "2": "0.99"
                                },
                                {
                                    "0": "Norway",
                                    "1": "2012",
                                    "2": "8.91"
                                },
                                {
                                    "0": "Poland",
                                    "1": "2012",
                                    "2": "11.88"
                                },
                                {
                                    "0": "Portugal",
                                    "1": "2012",
                                    "2": "24.77"
                                },
                                {
                                    "0": "Sweden",
                                    "1": "2012",
                                    "2": "24.75"
                                },
                                {
                                    "0": "United Kingdom",
                                    "1": "2012",
                                    "2": "9.90"
                                },
                                {
                                    "0": "USA",
                                    "1": "2012",
                                    "2": "127.98"
                                },
                                {
                                    "0": "Argentina",
                                    "1": "2013",
                                    "2": "24.75"
                                },
                                {
                                    "0": "Austria",
                                    "1": "2013",
                                    "2": "0.99"
                                },
                                {
                                    "0": "Belgium",
                                    "1": "2013",
                                    "2": "5.94"
                                },
                                {
                                    "0": "Brazil",
                                    "1": "2013",
                                    "2": "37.62"
                                },
                                {
                                    "0": "Canada",
                                    "1": "2013",
                                    "2": "72.27"
                                },
                                {
                                    "0": "Czech Republic",
                                    "1": "2013",
                                    "2": "36.75"
                                },
                                {
                                    "0": "Denmark",
                                    "1": "2013",
                                    "2": "8.91"
                                },
                                {
                                    "0": "Finland",
                                    "1": "2013",
                                    "2": "15.84"
                                },
                                {
                                    "0": "France",
                                    "1": "2013",
                                    "2": "40.59"
                                },
                                {
                                    "0": "Germany",
                                    "1": "2013",
                                    "2": "9.90"
                                },
                                {
                                    "0": "Hungary",
                                    "1": "2013",
                                    "2": "0.99"
                                },
                                {
                                    "0": "India",
                                    "1": "2013",
                                    "2": "11.89"
                                },
                                {
                                    "0": "Ireland",
                                    "1": "2013",
                                    "2": "5.94"
                                },
                                {
                                    "0": "Italy",
                                    "1": "2013",
                                    "2": "8.91"
                                },
                                {
                                    "0": "Netherlands",
                                    "1": "2013",
                                    "2": "15.84"
                                },
                                {
                                    "0": "Norway",
                                    "1": "2013",
                                    "2": "1.98"
                                },
                                {
                                    "0": "Poland",
                                    "1": "2013",
                                    "2": "0.99"
                                },
                                {
                                    "0": "Portugal",
                                    "1": "2013",
                                    "2": "24.75"
                                },
                                {
                                    "0": "Spain",
                                    "1": "2013",
                                    "2": "11.88"
                                },
                                {
                                    "0": "United Kingdom",
                                    "1": "2013",
                                    "2": "28.71"
                                },
                                {
                                    "0": "USA",
                                    "1": "2013",
                                    "2": "85.14"
                                }
                            ]
                        },
                        "text/html": "<table><tr><th>BillingCountry</th><th>(No column name)</th><th>(No column name)</th></tr><tr><td>Australia</td><td>2009</td><td>11.88</td></tr><tr><td>Austria</td><td>2009</td><td>1.98</td></tr><tr><td>Belgium</td><td>2009</td><td>6.93</td></tr><tr><td>Brazil</td><td>2009</td><td>37.62</td></tr><tr><td>Canada</td><td>2009</td><td>57.42</td></tr><tr><td>Chile</td><td>2009</td><td>15.84</td></tr><tr><td>Czech Republic</td><td>2009</td><td>10.89</td></tr><tr><td>Denmark</td><td>2009</td><td>5.94</td></tr><tr><td>Finland</td><td>2009</td><td>8.91</td></tr><tr><td>France</td><td>2009</td><td>35.64</td></tr><tr><td>Germany</td><td>2009</td><td>53.46</td></tr><tr><td>India</td><td>2009</td><td>9.90</td></tr><tr><td>Ireland</td><td>2009</td><td>6.93</td></tr><tr><td>Italy</td><td>2009</td><td>1.98</td></tr><tr><td>Netherlands</td><td>2009</td><td>8.91</td></tr><tr><td>Norway</td><td>2009</td><td>10.89</td></tr><tr><td>Poland</td><td>2009</td><td>15.84</td></tr><tr><td>Portugal</td><td>2009</td><td>11.88</td></tr><tr><td>Spain</td><td>2009</td><td>0.99</td></tr><tr><td>Sweden</td><td>2009</td><td>5.94</td></tr><tr><td>United Kingdom</td><td>2009</td><td>25.74</td></tr><tr><td>USA</td><td>2009</td><td>103.95</td></tr><tr><td>Argentina</td><td>2010</td><td>11.88</td></tr><tr><td>Australia</td><td>2010</td><td>0.99</td></tr><tr><td>Austria</td><td>2010</td><td>27.77</td></tr><tr><td>Brazil</td><td>2010</td><td>41.60</td></tr><tr><td>Canada</td><td>2010</td><td>76.26</td></tr><tr><td>Chile</td><td>2010</td><td>17.91</td></tr><tr><td>Czech Republic</td><td>2010</td><td>9.90</td></tr><tr><td>Denmark</td><td>2010</td><td>6.93</td></tr><tr><td>France</td><td>2010</td><td>39.60</td></tr><tr><td>Germany</td><td>2010</td><td>25.74</td></tr><tr><td>Hungary</td><td>2010</td><td>32.75</td></tr><tr><td>India</td><td>2010</td><td>17.83</td></tr><tr><td>Italy</td><td>2010</td><td>10.89</td></tr><tr><td>Netherlands</td><td>2010</td><td>1.98</td></tr><tr><td>Poland</td><td>2010</td><td>8.91</td></tr><tr><td>Portugal</td><td>2010</td><td>6.93</td></tr><tr><td>Spain</td><td>2010</td><td>1.98</td></tr><tr><td>Sweden</td><td>2010</td><td>7.93</td></tr><tr><td>United Kingdom</td><td>2010</td><td>30.69</td></tr><tr><td>USA</td><td>2010</td><td>102.98</td></tr><tr><td>Argentina</td><td>2011</td><td>0.99</td></tr><tr><td>Australia</td><td>2011</td><td>1.98</td></tr><tr><td>Belgium</td><td>2011</td><td>24.75</td></tr><tr><td>Brazil</td><td>2011</td><td>19.80</td></tr><tr><td>Canada</td><td>2011</td><td>55.44</td></tr><tr><td>Chile</td><td>2011</td><td>5.94</td></tr><tr><td>Czech Republic</td><td>2011</td><td>12.87</td></tr><tr><td>Finland</td><td>2011</td><td>15.88</td></tr><tr><td>France</td><td>2011</td><td>42.61</td></tr><tr><td>Germany</td><td>2011</td><td>48.57</td></tr><tr><td>India</td><td>2011</td><td>24.75</td></tr><tr><td>Ireland</td><td>2011</td><td>32.75</td></tr><tr><td>Netherlands</td><td>2011</td><td>12.90</td></tr><tr><td>Norway</td><td>2011</td><td>17.84</td></tr><tr><td>Portugal</td><td>2011</td><td>8.91</td></tr><tr><td>Spain</td><td>2011</td><td>22.77</td></tr><tr><td>United Kingdom</td><td>2011</td><td>17.82</td></tr><tr><td>USA</td><td>2011</td><td>103.01</td></tr><tr><td>Australia</td><td>2012</td><td>22.77</td></tr><tr><td>Austria</td><td>2012</td><td>11.88</td></tr><tr><td>Brazil</td><td>2012</td><td>53.46</td></tr><tr><td>Canada</td><td>2012</td><td>42.57</td></tr><tr><td>Chile</td><td>2012</td><td>6.93</td></tr><tr><td>Czech Republic</td><td>2012</td><td>19.83</td></tr><tr><td>Denmark</td><td>2012</td><td>15.84</td></tr><tr><td>Finland</td><td>2012</td><td>0.99</td></tr><tr><td>France</td><td>2012</td><td>36.66</td></tr><tr><td>Germany</td><td>2012</td><td>18.81</td></tr><tr><td>Hungary</td><td>2012</td><td>11.88</td></tr><tr><td>India</td><td>2012</td><td>10.89</td></tr><tr><td>Italy</td><td>2012</td><td>15.84</td></tr><tr><td>Netherlands</td><td>2012</td><td>0.99</td></tr><tr><td>Norway</td><td>2012</td><td>8.91</td></tr><tr><td>Poland</td><td>2012</td><td>11.88</td></tr><tr><td>Portugal</td><td>2012</td><td>24.77</td></tr><tr><td>Sweden</td><td>2012</td><td>24.75</td></tr><tr><td>United Kingdom</td><td>2012</td><td>9.90</td></tr><tr><td>USA</td><td>2012</td><td>127.98</td></tr><tr><td>Argentina</td><td>2013</td><td>24.75</td></tr><tr><td>Austria</td><td>2013</td><td>0.99</td></tr><tr><td>Belgium</td><td>2013</td><td>5.94</td></tr><tr><td>Brazil</td><td>2013</td><td>37.62</td></tr><tr><td>Canada</td><td>2013</td><td>72.27</td></tr><tr><td>Czech Republic</td><td>2013</td><td>36.75</td></tr><tr><td>Denmark</td><td>2013</td><td>8.91</td></tr><tr><td>Finland</td><td>2013</td><td>15.84</td></tr><tr><td>France</td><td>2013</td><td>40.59</td></tr><tr><td>Germany</td><td>2013</td><td>9.90</td></tr><tr><td>Hungary</td><td>2013</td><td>0.99</td></tr><tr><td>India</td><td>2013</td><td>11.89</td></tr><tr><td>Ireland</td><td>2013</td><td>5.94</td></tr><tr><td>Italy</td><td>2013</td><td>8.91</td></tr><tr><td>Netherlands</td><td>2013</td><td>15.84</td></tr><tr><td>Norway</td><td>2013</td><td>1.98</td></tr><tr><td>Poland</td><td>2013</td><td>0.99</td></tr><tr><td>Portugal</td><td>2013</td><td>24.75</td></tr><tr><td>Spain</td><td>2013</td><td>11.88</td></tr><tr><td>United Kingdom</td><td>2013</td><td>28.71</td></tr><tr><td>USA</td><td>2013</td><td>85.14</td></tr></table>"
                    },
                    "metadata": {}
                }
            ],
            "execution_count": 9
        },
        {
            "cell_type": "code",
            "source": [
                "-- 2. Cuáles son los clientes que realizaron más compras\r\n",
                "SELECT CustomerId, COUNT(CustomerId) as CantidadCompras\r\n",
                "FROM Invoice\r\n",
                "GROUP BY CustomerId"
            ],
            "metadata": {
                "language": "sql",
                "azdata_cell_guid": "6980aa3e-6f67-47d2-91cf-f1d5b2348c38"
            },
            "outputs": [
                {
                    "output_type": "display_data",
                    "data": {
                        "text/html": "(59 rows affected)"
                    },
                    "metadata": {}
                },
                {
                    "output_type": "display_data",
                    "data": {
                        "text/html": "Total execution time: 00:00:00.006"
                    },
                    "metadata": {}
                },
                {
                    "output_type": "execute_result",
                    "execution_count": 12,
                    "data": {
                        "application/vnd.dataresource+json": {
                            "schema": {
                                "fields": [
                                    {
                                        "name": "CustomerId"
                                    },
                                    {
                                        "name": "CantidadCompras"
                                    }
                                ]
                            },
                            "data": [
                                {
                                    "0": "1",
                                    "1": "7"
                                },
                                {
                                    "0": "2",
                                    "1": "7"
                                },
                                {
                                    "0": "3",
                                    "1": "7"
                                },
                                {
                                    "0": "4",
                                    "1": "7"
                                },
                                {
                                    "0": "5",
                                    "1": "7"
                                },
                                {
                                    "0": "6",
                                    "1": "7"
                                },
                                {
                                    "0": "7",
                                    "1": "7"
                                },
                                {
                                    "0": "8",
                                    "1": "7"
                                },
                                {
                                    "0": "9",
                                    "1": "7"
                                },
                                {
                                    "0": "10",
                                    "1": "7"
                                },
                                {
                                    "0": "11",
                                    "1": "7"
                                },
                                {
                                    "0": "12",
                                    "1": "7"
                                },
                                {
                                    "0": "13",
                                    "1": "7"
                                },
                                {
                                    "0": "14",
                                    "1": "7"
                                },
                                {
                                    "0": "15",
                                    "1": "7"
                                },
                                {
                                    "0": "16",
                                    "1": "7"
                                },
                                {
                                    "0": "17",
                                    "1": "7"
                                },
                                {
                                    "0": "18",
                                    "1": "7"
                                },
                                {
                                    "0": "19",
                                    "1": "7"
                                },
                                {
                                    "0": "20",
                                    "1": "7"
                                },
                                {
                                    "0": "21",
                                    "1": "7"
                                },
                                {
                                    "0": "22",
                                    "1": "7"
                                },
                                {
                                    "0": "23",
                                    "1": "7"
                                },
                                {
                                    "0": "24",
                                    "1": "7"
                                },
                                {
                                    "0": "25",
                                    "1": "7"
                                },
                                {
                                    "0": "26",
                                    "1": "7"
                                },
                                {
                                    "0": "27",
                                    "1": "7"
                                },
                                {
                                    "0": "28",
                                    "1": "7"
                                },
                                {
                                    "0": "29",
                                    "1": "7"
                                },
                                {
                                    "0": "30",
                                    "1": "7"
                                },
                                {
                                    "0": "31",
                                    "1": "7"
                                },
                                {
                                    "0": "32",
                                    "1": "7"
                                },
                                {
                                    "0": "33",
                                    "1": "7"
                                },
                                {
                                    "0": "34",
                                    "1": "7"
                                },
                                {
                                    "0": "35",
                                    "1": "7"
                                },
                                {
                                    "0": "36",
                                    "1": "7"
                                },
                                {
                                    "0": "37",
                                    "1": "7"
                                },
                                {
                                    "0": "38",
                                    "1": "7"
                                },
                                {
                                    "0": "39",
                                    "1": "7"
                                },
                                {
                                    "0": "40",
                                    "1": "7"
                                },
                                {
                                    "0": "41",
                                    "1": "7"
                                },
                                {
                                    "0": "42",
                                    "1": "7"
                                },
                                {
                                    "0": "43",
                                    "1": "7"
                                },
                                {
                                    "0": "44",
                                    "1": "7"
                                },
                                {
                                    "0": "45",
                                    "1": "7"
                                },
                                {
                                    "0": "46",
                                    "1": "7"
                                },
                                {
                                    "0": "47",
                                    "1": "7"
                                },
                                {
                                    "0": "48",
                                    "1": "7"
                                },
                                {
                                    "0": "49",
                                    "1": "7"
                                },
                                {
                                    "0": "50",
                                    "1": "7"
                                },
                                {
                                    "0": "51",
                                    "1": "7"
                                },
                                {
                                    "0": "52",
                                    "1": "7"
                                },
                                {
                                    "0": "53",
                                    "1": "7"
                                },
                                {
                                    "0": "54",
                                    "1": "7"
                                },
                                {
                                    "0": "55",
                                    "1": "7"
                                },
                                {
                                    "0": "56",
                                    "1": "7"
                                },
                                {
                                    "0": "57",
                                    "1": "7"
                                },
                                {
                                    "0": "58",
                                    "1": "7"
                                },
                                {
                                    "0": "59",
                                    "1": "6"
                                }
                            ]
                        },
                        "text/html": "<table><tr><th>CustomerId</th><th>CantidadCompras</th></tr><tr><td>1</td><td>7</td></tr><tr><td>2</td><td>7</td></tr><tr><td>3</td><td>7</td></tr><tr><td>4</td><td>7</td></tr><tr><td>5</td><td>7</td></tr><tr><td>6</td><td>7</td></tr><tr><td>7</td><td>7</td></tr><tr><td>8</td><td>7</td></tr><tr><td>9</td><td>7</td></tr><tr><td>10</td><td>7</td></tr><tr><td>11</td><td>7</td></tr><tr><td>12</td><td>7</td></tr><tr><td>13</td><td>7</td></tr><tr><td>14</td><td>7</td></tr><tr><td>15</td><td>7</td></tr><tr><td>16</td><td>7</td></tr><tr><td>17</td><td>7</td></tr><tr><td>18</td><td>7</td></tr><tr><td>19</td><td>7</td></tr><tr><td>20</td><td>7</td></tr><tr><td>21</td><td>7</td></tr><tr><td>22</td><td>7</td></tr><tr><td>23</td><td>7</td></tr><tr><td>24</td><td>7</td></tr><tr><td>25</td><td>7</td></tr><tr><td>26</td><td>7</td></tr><tr><td>27</td><td>7</td></tr><tr><td>28</td><td>7</td></tr><tr><td>29</td><td>7</td></tr><tr><td>30</td><td>7</td></tr><tr><td>31</td><td>7</td></tr><tr><td>32</td><td>7</td></tr><tr><td>33</td><td>7</td></tr><tr><td>34</td><td>7</td></tr><tr><td>35</td><td>7</td></tr><tr><td>36</td><td>7</td></tr><tr><td>37</td><td>7</td></tr><tr><td>38</td><td>7</td></tr><tr><td>39</td><td>7</td></tr><tr><td>40</td><td>7</td></tr><tr><td>41</td><td>7</td></tr><tr><td>42</td><td>7</td></tr><tr><td>43</td><td>7</td></tr><tr><td>44</td><td>7</td></tr><tr><td>45</td><td>7</td></tr><tr><td>46</td><td>7</td></tr><tr><td>47</td><td>7</td></tr><tr><td>48</td><td>7</td></tr><tr><td>49</td><td>7</td></tr><tr><td>50</td><td>7</td></tr><tr><td>51</td><td>7</td></tr><tr><td>52</td><td>7</td></tr><tr><td>53</td><td>7</td></tr><tr><td>54</td><td>7</td></tr><tr><td>55</td><td>7</td></tr><tr><td>56</td><td>7</td></tr><tr><td>57</td><td>7</td></tr><tr><td>58</td><td>7</td></tr><tr><td>59</td><td>6</td></tr></table>"
                    },
                    "metadata": {}
                }
            ],
            "execution_count": 12
        },
        {
            "cell_type": "code",
            "source": [
                "with count_invoice_by_customer as (\r\n",
                " select c.CustomerId, count(i.InvoiceId) as count_invoice\r\n",
                " from Customer c\r\n",
                " left join Invoice i on c.CustomerId = i.CustomerId\r\n",
                " GROUP BY c.CustomerId\r\n",
                ")\r\n",
                "select cibc.CustomerId\r\n",
                "from count_invoice_by_customer cibc\r\n",
                "where cibc.count_invoice = (select max(count_invoice) from\r\n",
                "count_invoice_by_customer)\r\n",
                ""
            ],
            "metadata": {
                "language": "sql",
                "azdata_cell_guid": "4fcf2ca2-0b7a-4eca-a5e9-b5b293bde367"
            },
            "outputs": [
                {
                    "output_type": "display_data",
                    "data": {
                        "text/html": "(58 rows affected)"
                    },
                    "metadata": {}
                },
                {
                    "output_type": "display_data",
                    "data": {
                        "text/html": "Total execution time: 00:00:00.029"
                    },
                    "metadata": {}
                },
                {
                    "output_type": "execute_result",
                    "execution_count": 20,
                    "data": {
                        "application/vnd.dataresource+json": {
                            "schema": {
                                "fields": [
                                    {
                                        "name": "CustomerId"
                                    }
                                ]
                            },
                            "data": [
                                {
                                    "0": "1"
                                },
                                {
                                    "0": "2"
                                },
                                {
                                    "0": "3"
                                },
                                {
                                    "0": "4"
                                },
                                {
                                    "0": "5"
                                },
                                {
                                    "0": "6"
                                },
                                {
                                    "0": "7"
                                },
                                {
                                    "0": "8"
                                },
                                {
                                    "0": "9"
                                },
                                {
                                    "0": "10"
                                },
                                {
                                    "0": "11"
                                },
                                {
                                    "0": "12"
                                },
                                {
                                    "0": "13"
                                },
                                {
                                    "0": "14"
                                },
                                {
                                    "0": "15"
                                },
                                {
                                    "0": "16"
                                },
                                {
                                    "0": "17"
                                },
                                {
                                    "0": "18"
                                },
                                {
                                    "0": "19"
                                },
                                {
                                    "0": "20"
                                },
                                {
                                    "0": "21"
                                },
                                {
                                    "0": "22"
                                },
                                {
                                    "0": "23"
                                },
                                {
                                    "0": "24"
                                },
                                {
                                    "0": "25"
                                },
                                {
                                    "0": "26"
                                },
                                {
                                    "0": "27"
                                },
                                {
                                    "0": "28"
                                },
                                {
                                    "0": "29"
                                },
                                {
                                    "0": "30"
                                },
                                {
                                    "0": "31"
                                },
                                {
                                    "0": "32"
                                },
                                {
                                    "0": "33"
                                },
                                {
                                    "0": "34"
                                },
                                {
                                    "0": "35"
                                },
                                {
                                    "0": "36"
                                },
                                {
                                    "0": "37"
                                },
                                {
                                    "0": "38"
                                },
                                {
                                    "0": "39"
                                },
                                {
                                    "0": "40"
                                },
                                {
                                    "0": "41"
                                },
                                {
                                    "0": "42"
                                },
                                {
                                    "0": "43"
                                },
                                {
                                    "0": "44"
                                },
                                {
                                    "0": "45"
                                },
                                {
                                    "0": "46"
                                },
                                {
                                    "0": "47"
                                },
                                {
                                    "0": "48"
                                },
                                {
                                    "0": "49"
                                },
                                {
                                    "0": "50"
                                },
                                {
                                    "0": "51"
                                },
                                {
                                    "0": "52"
                                },
                                {
                                    "0": "53"
                                },
                                {
                                    "0": "54"
                                },
                                {
                                    "0": "55"
                                },
                                {
                                    "0": "56"
                                },
                                {
                                    "0": "57"
                                },
                                {
                                    "0": "58"
                                }
                            ]
                        },
                        "text/html": "<table><tr><th>CustomerId</th></tr><tr><td>1</td></tr><tr><td>2</td></tr><tr><td>3</td></tr><tr><td>4</td></tr><tr><td>5</td></tr><tr><td>6</td></tr><tr><td>7</td></tr><tr><td>8</td></tr><tr><td>9</td></tr><tr><td>10</td></tr><tr><td>11</td></tr><tr><td>12</td></tr><tr><td>13</td></tr><tr><td>14</td></tr><tr><td>15</td></tr><tr><td>16</td></tr><tr><td>17</td></tr><tr><td>18</td></tr><tr><td>19</td></tr><tr><td>20</td></tr><tr><td>21</td></tr><tr><td>22</td></tr><tr><td>23</td></tr><tr><td>24</td></tr><tr><td>25</td></tr><tr><td>26</td></tr><tr><td>27</td></tr><tr><td>28</td></tr><tr><td>29</td></tr><tr><td>30</td></tr><tr><td>31</td></tr><tr><td>32</td></tr><tr><td>33</td></tr><tr><td>34</td></tr><tr><td>35</td></tr><tr><td>36</td></tr><tr><td>37</td></tr><tr><td>38</td></tr><tr><td>39</td></tr><tr><td>40</td></tr><tr><td>41</td></tr><tr><td>42</td></tr><tr><td>43</td></tr><tr><td>44</td></tr><tr><td>45</td></tr><tr><td>46</td></tr><tr><td>47</td></tr><tr><td>48</td></tr><tr><td>49</td></tr><tr><td>50</td></tr><tr><td>51</td></tr><tr><td>52</td></tr><tr><td>53</td></tr><tr><td>54</td></tr><tr><td>55</td></tr><tr><td>56</td></tr><tr><td>57</td></tr><tr><td>58</td></tr></table>"
                    },
                    "metadata": {}
                }
            ],
            "execution_count": 20
        },
        {
            "cell_type": "code",
            "source": [
                "-- 3. Obtener el track de mayor duración para cada género indicando el\r\n",
                "--título del Álbum al que pertenece.\r\n",
                "SELECT \r\n",
                "    t2.Milliseconds/1000 as DuracionEnSegundos, \r\n",
                "    t2.Name AS NombreTrack, \r\n",
                "    aux3.Name as NombreGenero,\r\n",
                "    alb2.Title as NombreAlbum\r\n",
                "     FROM Track t2\r\n",
                "INNER JOIN\r\n",
                "(SELECT MAX(aux2.Milliseconds) as CantMili, aux2.Name, aux2.GenreId FROM\r\n",
                "(SELECT Milliseconds, gen.Name, alb.Title, gen.GenreId FROM Track t\r\n",
                "INNER JOIN Genre gen on gen.GenreId = t.GenreId\r\n",
                "INNER JOIN Album alb on alb.AlbumId = t.AlbumId) as aux2\r\n",
                "GROUP BY aux2.GenreId, aux2.Name) as aux3\r\n",
                "ON t2.Milliseconds = aux3.CantMili and t2.GenreId = aux3.GenreId\r\n",
                "INNER JOIN Album alb2 on alb2.AlbumId = t2.AlbumId\r\n",
                ""
            ],
            "metadata": {
                "azdata_cell_guid": "9d4862f7-d8fc-4fd7-8eb0-76ae02339205",
                "language": "sql"
            },
            "outputs": [
                {
                    "output_type": "display_data",
                    "data": {
                        "text/html": "(25 rows affected)"
                    },
                    "metadata": {}
                },
                {
                    "output_type": "display_data",
                    "data": {
                        "text/html": "Total execution time: 00:00:00.032"
                    },
                    "metadata": {}
                },
                {
                    "output_type": "execute_result",
                    "execution_count": 90,
                    "data": {
                        "application/vnd.dataresource+json": {
                            "schema": {
                                "fields": [
                                    {
                                        "name": "DuracionEnSegundos"
                                    },
                                    {
                                        "name": "NombreTrack"
                                    },
                                    {
                                        "name": "NombreGenero"
                                    },
                                    {
                                        "name": "NombreAlbum"
                                    }
                                ]
                            },
                            "data": [
                                {
                                    "0": "672",
                                    "1": "Reach Down",
                                    "2": "Alternative",
                                    "3": "Temple of the Dog"
                                },
                                {
                                    "0": "663",
                                    "1": "Amy Amy Amy (Outro)",
                                    "2": "Pop",
                                    "3": "Frank"
                                },
                                {
                                    "0": "529",
                                    "1": "Just Another Story",
                                    "2": "Electronica/Dance",
                                    "3": "The Return Of The Space Cowboy"
                                },
                                {
                                    "0": "816",
                                    "1": "Rime of the Ancient Mariner",
                                    "2": "Metal",
                                    "3": "Powerslave"
                                },
                                {
                                    "0": "292",
                                    "1": "Mack The Knife",
                                    "2": "Easy Listening",
                                    "3": "My Way: The Best Of Frank Sinatra [Disc 1]"
                                },
                                {
                                    "0": "589",
                                    "1": "Talkin' 'Bout Women Obviously",
                                    "2": "Blues",
                                    "3": "The Best Of Buddy Guy - The Millenium Collection"
                                },
                                {
                                    "0": "5088",
                                    "1": "Through a Looking Glass",
                                    "2": "Drama",
                                    "3": "Lost, Season 3"
                                },
                                {
                                    "0": "543",
                                    "1": "Faroeste Caboclo",
                                    "2": "Latin",
                                    "3": "Mais Do Mesmo"
                                },
                                {
                                    "0": "1612",
                                    "1": "Dazed And Confused",
                                    "2": "Rock",
                                    "3": "The Song Remains The Same (Disc 1)"
                                },
                                {
                                    "0": "596",
                                    "1": "Adagio for Strings from the String Quartet, Op. 11",
                                    "2": "Classical",
                                    "3": "Great Performances - Barber's Adagio and Other Romantic Favorites for Strings"
                                },
                                {
                                    "0": "2713",
                                    "1": "Hero",
                                    "2": "Science Fiction",
                                    "3": "Battlestar Galactica, Season 3"
                                },
                                {
                                    "0": "383",
                                    "1": "Always Forever Now",
                                    "2": "Soundtrack",
                                    "3": "Original Soundtracks 1"
                                },
                                {
                                    "0": "558",
                                    "1": "Homecoming / The Death Of St. Jimmy / East 12th St. / Nobody Likes You / Rock And Roll Girlfriend / We're Coming Home Again",
                                    "2": "Alternative & Punk",
                                    "3": "American Idiot"
                                },
                                {
                                    "0": "5286",
                                    "1": "Occupation / Precipice",
                                    "2": "TV Shows",
                                    "3": "Battlestar Galactica, Season 3"
                                },
                                {
                                    "0": "174",
                                    "1": "Die Zauberflöte, K.620: \"Der Hölle Rache Kocht in Meinem Herze\"",
                                    "2": "Opera",
                                    "3": "Mozart Gala: Famous Arias"
                                },
                                {
                                    "0": "516",
                                    "1": "Dance Of Death",
                                    "2": "Heavy Metal",
                                    "3": "Dance Of Death"
                                },
                                {
                                    "0": "163",
                                    "1": "Slow Down",
                                    "2": "Rock And Roll",
                                    "3": "BackBeat Soundtrack"
                                },
                                {
                                    "0": "2541",
                                    "1": "The Job",
                                    "2": "Comedy",
                                    "3": "The Office, Season 3"
                                },
                                {
                                    "0": "300",
                                    "1": "I Ka Barra (Your Work)",
                                    "2": "World",
                                    "3": "Muso Ko"
                                },
                                {
                                    "0": "907",
                                    "1": "My Funny Valentine (Live)",
                                    "2": "Jazz",
                                    "3": "The Essential Miles Davis [Disc 2]"
                                },
                                {
                                    "0": "410",
                                    "1": "Se Liga",
                                    "2": "Hip Hop/Rap",
                                    "3": "Os Cães Ladram Mas A Caravana Não Pára"
                                },
                                {
                                    "0": "409",
                                    "1": "Samba Da Bênção",
                                    "2": "Bossa Nova",
                                    "3": "Vinícius De Moraes - Sem Limite"
                                },
                                {
                                    "0": "2960",
                                    "1": "Greetings from Earth, Pt. 1",
                                    "2": "Sci Fi & Fantasy",
                                    "3": "Battlestar Galactica (Classic), Season 1"
                                },
                                {
                                    "0": "418",
                                    "1": "Rehab (Hot Chip Remix)",
                                    "2": "R&B/Soul",
                                    "3": "Back to Black"
                                },
                                {
                                    "0": "366",
                                    "1": "Equal Rights Downpresser Man",
                                    "2": "Reggae",
                                    "3": "Greatest Hits"
                                }
                            ]
                        },
                        "text/html": "<table><tr><th>DuracionEnSegundos</th><th>NombreTrack</th><th>NombreGenero</th><th>NombreAlbum</th></tr><tr><td>672</td><td>Reach Down</td><td>Alternative</td><td>Temple of the Dog</td></tr><tr><td>663</td><td>Amy Amy Amy (Outro)</td><td>Pop</td><td>Frank</td></tr><tr><td>529</td><td>Just Another Story</td><td>Electronica/Dance</td><td>The Return Of The Space Cowboy</td></tr><tr><td>816</td><td>Rime of the Ancient Mariner</td><td>Metal</td><td>Powerslave</td></tr><tr><td>292</td><td>Mack The Knife</td><td>Easy Listening</td><td>My Way: The Best Of Frank Sinatra [Disc 1]</td></tr><tr><td>589</td><td>Talkin' 'Bout Women Obviously</td><td>Blues</td><td>The Best Of Buddy Guy - The Millenium Collection</td></tr><tr><td>5088</td><td>Through a Looking Glass</td><td>Drama</td><td>Lost, Season 3</td></tr><tr><td>543</td><td>Faroeste Caboclo</td><td>Latin</td><td>Mais Do Mesmo</td></tr><tr><td>1612</td><td>Dazed And Confused</td><td>Rock</td><td>The Song Remains The Same (Disc 1)</td></tr><tr><td>596</td><td>Adagio for Strings from the String Quartet, Op. 11</td><td>Classical</td><td>Great Performances - Barber's Adagio and Other Romantic Favorites for Strings</td></tr><tr><td>2713</td><td>Hero</td><td>Science Fiction</td><td>Battlestar Galactica, Season 3</td></tr><tr><td>383</td><td>Always Forever Now</td><td>Soundtrack</td><td>Original Soundtracks 1</td></tr><tr><td>558</td><td>Homecoming / The Death Of St. Jimmy / East 12th St. / Nobody Likes You / Rock And Roll Girlfriend / We're Coming Home Again</td><td>Alternative &amp; Punk</td><td>American Idiot</td></tr><tr><td>5286</td><td>Occupation / Precipice</td><td>TV Shows</td><td>Battlestar Galactica, Season 3</td></tr><tr><td>174</td><td>Die Zauberflöte, K.620: &quot;Der Hölle Rache Kocht in Meinem Herze&quot;</td><td>Opera</td><td>Mozart Gala: Famous Arias</td></tr><tr><td>516</td><td>Dance Of Death</td><td>Heavy Metal</td><td>Dance Of Death</td></tr><tr><td>163</td><td>Slow Down</td><td>Rock And Roll</td><td>BackBeat Soundtrack</td></tr><tr><td>2541</td><td>The Job</td><td>Comedy</td><td>The Office, Season 3</td></tr><tr><td>300</td><td>I Ka Barra (Your Work)</td><td>World</td><td>Muso Ko</td></tr><tr><td>907</td><td>My Funny Valentine (Live)</td><td>Jazz</td><td>The Essential Miles Davis [Disc 2]</td></tr><tr><td>410</td><td>Se Liga</td><td>Hip Hop/Rap</td><td>Os Cães Ladram Mas A Caravana Não Pára</td></tr><tr><td>409</td><td>Samba Da Bênção</td><td>Bossa Nova</td><td>Vinícius De Moraes - Sem Limite</td></tr><tr><td>2960</td><td>Greetings from Earth, Pt. 1</td><td>Sci Fi &amp; Fantasy</td><td>Battlestar Galactica (Classic), Season 1</td></tr><tr><td>418</td><td>Rehab (Hot Chip Remix)</td><td>R&amp;B/Soul</td><td>Back to Black</td></tr><tr><td>366</td><td>Equal Rights Downpresser Man</td><td>Reggae</td><td>Greatest Hits</td></tr></table>"
                    },
                    "metadata": {}
                }
            ],
            "execution_count": 90
        },
        {
            "cell_type": "code",
            "source": [
                "-- Cuales son las playlists mas recaudadoras\r\n",
                "SELECT AUX1.SumaPlata, pl.Name , pl.PlaylistId FROM\r\n",
                "(SELECT SUM(UnitPrice) as SumaPlata, PlaylistId\r\n",
                " FROM InvoiceLine as invl\r\n",
                "INNER JOIN Invoice inv on inv.InvoiceId = invl.InvoiceId\r\n",
                "INNER join PlaylistTrack plt on plt.TrackId = invl.TrackId\r\n",
                "GROUP BY PlaylistId) AS AUX1\r\n",
                "INNER JOIN Playlist pl on pl.PlaylistId = AUX1.PlaylistId\r\n",
                "ORDER BY SumaPlata DESC\r\n",
                ""
            ],
            "metadata": {
                "azdata_cell_guid": "1b41d027-3fee-45a9-bd21-9e0ad3022266",
                "language": "sql",
                "tags": []
            },
            "outputs": [
                {
                    "output_type": "display_data",
                    "data": {
                        "text/html": "(12 rows affected)"
                    },
                    "metadata": {}
                },
                {
                    "output_type": "display_data",
                    "data": {
                        "text/html": "Total execution time: 00:00:00.019"
                    },
                    "metadata": {}
                },
                {
                    "output_type": "execute_result",
                    "execution_count": 106,
                    "data": {
                        "application/vnd.dataresource+json": {
                            "schema": {
                                "fields": [
                                    {
                                        "name": "SumaPlata"
                                    },
                                    {
                                        "name": "Name"
                                    },
                                    {
                                        "name": "PlaylistId"
                                    }
                                ]
                            },
                            "data": [
                                {
                                    "0": "2107.71",
                                    "1": "Music",
                                    "2": "1"
                                },
                                {
                                    "0": "2107.71",
                                    "1": "Music",
                                    "2": "8"
                                },
                                {
                                    "0": "944.46",
                                    "1": "90’s Music",
                                    "2": "5"
                                },
                                {
                                    "0": "220.89",
                                    "1": "TV Shows",
                                    "2": "10"
                                },
                                {
                                    "0": "220.89",
                                    "1": "TV Shows",
                                    "2": "3"
                                },
                                {
                                    "0": "40.59",
                                    "1": "Classical",
                                    "2": "12"
                                },
                                {
                                    "0": "26.73",
                                    "1": "Brazilian Music",
                                    "2": "11"
                                },
                                {
                                    "0": "21.78",
                                    "1": "Heavy Metal Classic",
                                    "2": "17"
                                },
                                {
                                    "0": "18.81",
                                    "1": "Classical 101 - Deep Cuts",
                                    "2": "13"
                                },
                                {
                                    "0": "14.85",
                                    "1": "Classical 101 - Next Steps",
                                    "2": "14"
                                },
                                {
                                    "0": "6.93",
                                    "1": "Classical 101 - The Basics",
                                    "2": "15"
                                },
                                {
                                    "0": "6.93",
                                    "1": "Grunge",
                                    "2": "16"
                                }
                            ]
                        },
                        "text/html": "<table><tr><th>SumaPlata</th><th>Name</th><th>PlaylistId</th></tr><tr><td>2107.71</td><td>Music</td><td>1</td></tr><tr><td>2107.71</td><td>Music</td><td>8</td></tr><tr><td>944.46</td><td>90’s Music</td><td>5</td></tr><tr><td>220.89</td><td>TV Shows</td><td>10</td></tr><tr><td>220.89</td><td>TV Shows</td><td>3</td></tr><tr><td>40.59</td><td>Classical</td><td>12</td></tr><tr><td>26.73</td><td>Brazilian Music</td><td>11</td></tr><tr><td>21.78</td><td>Heavy Metal Classic</td><td>17</td></tr><tr><td>18.81</td><td>Classical 101 - Deep Cuts</td><td>13</td></tr><tr><td>14.85</td><td>Classical 101 - Next Steps</td><td>14</td></tr><tr><td>6.93</td><td>Classical 101 - The Basics</td><td>15</td></tr><tr><td>6.93</td><td>Grunge</td><td>16</td></tr></table>"
                    },
                    "metadata": {}
                }
            ],
            "execution_count": 106
        },
        {
            "cell_type": "code",
            "source": [
                "-- Cuales son las playlists mas veces vendieron\r\n",
                "SELECT COUNT(DISTINCT inv.InvoiceId) as CantidadVentas, PlaylistId\r\n",
                " FROM InvoiceLine as invl\r\n",
                "INNER JOIN Invoice inv on inv.InvoiceId = invl.InvoiceId\r\n",
                "INNER join PlaylistTrack plt on plt.TrackId = invl.TrackId\r\n",
                "GROUP BY PlaylistId\r\n",
                "ORDER BY CantidadVentas DESC"
            ],
            "metadata": {
                "azdata_cell_guid": "12b35442-d195-42ef-b542-265b7b0fa448",
                "language": "sql"
            },
            "outputs": [
                {
                    "output_type": "display_data",
                    "data": {
                        "text/html": "(12 rows affected)"
                    },
                    "metadata": {}
                },
                {
                    "output_type": "display_data",
                    "data": {
                        "text/html": "Total execution time: 00:00:00.034"
                    },
                    "metadata": {}
                },
                {
                    "output_type": "execute_result",
                    "execution_count": 115,
                    "data": {
                        "application/vnd.dataresource+json": {
                            "schema": {
                                "fields": [
                                    {
                                        "name": "CantidadVentas"
                                    },
                                    {
                                        "name": "PlaylistId"
                                    }
                                ]
                            },
                            "data": [
                                {
                                    "0": "399",
                                    "1": "8"
                                },
                                {
                                    "0": "399",
                                    "1": "1"
                                },
                                {
                                    "0": "256",
                                    "1": "5"
                                },
                                {
                                    "0": "30",
                                    "1": "3"
                                },
                                {
                                    "0": "30",
                                    "1": "10"
                                },
                                {
                                    "0": "21",
                                    "1": "11"
                                },
                                {
                                    "0": "18",
                                    "1": "17"
                                },
                                {
                                    "0": "15",
                                    "1": "12"
                                },
                                {
                                    "0": "7",
                                    "1": "13"
                                },
                                {
                                    "0": "7",
                                    "1": "14"
                                },
                                {
                                    "0": "5",
                                    "1": "16"
                                },
                                {
                                    "0": "3",
                                    "1": "15"
                                }
                            ]
                        },
                        "text/html": "<table><tr><th>CantidadVentas</th><th>PlaylistId</th></tr><tr><td>399</td><td>8</td></tr><tr><td>399</td><td>1</td></tr><tr><td>256</td><td>5</td></tr><tr><td>30</td><td>3</td></tr><tr><td>30</td><td>10</td></tr><tr><td>21</td><td>11</td></tr><tr><td>18</td><td>17</td></tr><tr><td>15</td><td>12</td></tr><tr><td>7</td><td>13</td></tr><tr><td>7</td><td>14</td></tr><tr><td>5</td><td>16</td></tr><tr><td>3</td><td>15</td></tr></table>"
                    },
                    "metadata": {}
                }
            ],
            "execution_count": 115
        },
        {
            "cell_type": "code",
            "source": [
                "-- 5. Listar playlists con tracks de más de tres artistas.\r\n",
                "SELECT Aux1.CantidadArtistasDistintos, PlaylistId FROM\r\n",
                "(SELECT COUNT(DISTINCT ArtistId) as CantidadArtistasDistintos, PlaylistId\r\n",
                "FROM PlaylistTrack\r\n",
                "INNER JOIN Track t on t.TrackId = PlaylistTrack.TrackId\r\n",
                "INNER JOIN Album alb on t.AlbumId = alb.AlbumId\r\n",
                "GROUP BY PlaylistId) as Aux1\r\n",
                "WHERE CantidadArtistasDistintos>3\r\n",
                "\r\n",
                ""
            ],
            "metadata": {
                "azdata_cell_guid": "6f5a0bd1-4169-4de3-b801-89ce6223bd21",
                "language": "sql"
            },
            "outputs": [
                {
                    "output_type": "display_data",
                    "data": {
                        "text/html": "(12 rows affected)"
                    },
                    "metadata": {}
                },
                {
                    "output_type": "display_data",
                    "data": {
                        "text/html": "Total execution time: 00:00:00.031"
                    },
                    "metadata": {}
                },
                {
                    "output_type": "execute_result",
                    "execution_count": 128,
                    "data": {
                        "application/vnd.dataresource+json": {
                            "schema": {
                                "fields": [
                                    {
                                        "name": "CantidadArtistasDistintos"
                                    },
                                    {
                                        "name": "PlaylistId"
                                    }
                                ]
                            },
                            "data": [
                                {
                                    "0": "198",
                                    "1": "1"
                                },
                                {
                                    "0": "6",
                                    "1": "3"
                                },
                                {
                                    "0": "109",
                                    "1": "5"
                                },
                                {
                                    "0": "198",
                                    "1": "8"
                                },
                                {
                                    "0": "6",
                                    "1": "10"
                                },
                                {
                                    "0": "12",
                                    "1": "11"
                                },
                                {
                                    "0": "67",
                                    "1": "12"
                                },
                                {
                                    "0": "25",
                                    "1": "13"
                                },
                                {
                                    "0": "23",
                                    "1": "14"
                                },
                                {
                                    "0": "25",
                                    "1": "15"
                                },
                                {
                                    "0": "6",
                                    "1": "16"
                                },
                                {
                                    "0": "9",
                                    "1": "17"
                                }
                            ]
                        },
                        "text/html": "<table><tr><th>CantidadArtistasDistintos</th><th>PlaylistId</th></tr><tr><td>198</td><td>1</td></tr><tr><td>6</td><td>3</td></tr><tr><td>109</td><td>5</td></tr><tr><td>198</td><td>8</td></tr><tr><td>6</td><td>10</td></tr><tr><td>12</td><td>11</td></tr><tr><td>67</td><td>12</td></tr><tr><td>25</td><td>13</td></tr><tr><td>23</td><td>14</td></tr><tr><td>25</td><td>15</td></tr><tr><td>6</td><td>16</td></tr><tr><td>9</td><td>17</td></tr></table>"
                    },
                    "metadata": {}
                }
            ],
            "execution_count": 128
        },
        {
            "cell_type": "code",
            "source": [
                "-- 6. Realizar una consulta correlacionada que devuelva, si es que lo\r\n",
                "-- hubiera, todos los customers que tengan como representante de\r\n",
                "-- ventas un empleado de otra ciudad a la que pertenece el cliente.\r\n",
                "-- Es decir que cliente y vendedor son de distintas ciudades.\r\n",
                "\r\n",
                "SELECT cus.CustomerId, cus.FirstName, cus.City, emp.City\r\n",
                "FROM Customer as cus\r\n",
                "INNER JOIN Employee as emp on emp.EmployeeId = cus.SupportRepId\r\n",
                "WHERE emp.City != cus.City"
            ],
            "metadata": {
                "azdata_cell_guid": "3a200317-e88a-468c-a7e5-757a04505775",
                "language": "sql"
            },
            "outputs": [
                {
                    "output_type": "display_data",
                    "data": {
                        "text/html": "(59 rows affected)"
                    },
                    "metadata": {}
                },
                {
                    "output_type": "display_data",
                    "data": {
                        "text/html": "Total execution time: 00:00:00.015"
                    },
                    "metadata": {}
                },
                {
                    "output_type": "execute_result",
                    "execution_count": 139,
                    "data": {
                        "application/vnd.dataresource+json": {
                            "schema": {
                                "fields": [
                                    {
                                        "name": "CustomerId"
                                    },
                                    {
                                        "name": "FirstName"
                                    },
                                    {
                                        "name": "City"
                                    },
                                    {
                                        "name": "City"
                                    }
                                ]
                            },
                            "data": [
                                {
                                    "0": "1",
                                    "1": "Luís",
                                    "2": "São José dos Campos",
                                    "3": "Calgary"
                                },
                                {
                                    "0": "2",
                                    "1": "Leonie",
                                    "2": "Stuttgart",
                                    "3": "Calgary"
                                },
                                {
                                    "0": "3",
                                    "1": "François",
                                    "2": "Montréal",
                                    "3": "Calgary"
                                },
                                {
                                    "0": "4",
                                    "1": "Bjørn",
                                    "2": "Oslo",
                                    "3": "Calgary"
                                },
                                {
                                    "0": "5",
                                    "1": "František",
                                    "2": "Prague",
                                    "3": "Calgary"
                                },
                                {
                                    "0": "6",
                                    "1": "Helena",
                                    "2": "Prague",
                                    "3": "Calgary"
                                },
                                {
                                    "0": "7",
                                    "1": "Astrid",
                                    "2": "Vienne",
                                    "3": "Calgary"
                                },
                                {
                                    "0": "8",
                                    "1": "Daan",
                                    "2": "Brussels",
                                    "3": "Calgary"
                                },
                                {
                                    "0": "9",
                                    "1": "Kara",
                                    "2": "Copenhagen",
                                    "3": "Calgary"
                                },
                                {
                                    "0": "10",
                                    "1": "Eduardo",
                                    "2": "São Paulo",
                                    "3": "Calgary"
                                },
                                {
                                    "0": "11",
                                    "1": "Alexandre",
                                    "2": "São Paulo",
                                    "3": "Calgary"
                                },
                                {
                                    "0": "12",
                                    "1": "Roberto",
                                    "2": "Rio de Janeiro",
                                    "3": "Calgary"
                                },
                                {
                                    "0": "13",
                                    "1": "Fernanda",
                                    "2": "Brasília",
                                    "3": "Calgary"
                                },
                                {
                                    "0": "14",
                                    "1": "Mark",
                                    "2": "Edmonton",
                                    "3": "Calgary"
                                },
                                {
                                    "0": "15",
                                    "1": "Jennifer",
                                    "2": "Vancouver",
                                    "3": "Calgary"
                                },
                                {
                                    "0": "16",
                                    "1": "Frank",
                                    "2": "Mountain View",
                                    "3": "Calgary"
                                },
                                {
                                    "0": "17",
                                    "1": "Jack",
                                    "2": "Redmond",
                                    "3": "Calgary"
                                },
                                {
                                    "0": "18",
                                    "1": "Michelle",
                                    "2": "New York",
                                    "3": "Calgary"
                                },
                                {
                                    "0": "19",
                                    "1": "Tim",
                                    "2": "Cupertino",
                                    "3": "Calgary"
                                },
                                {
                                    "0": "20",
                                    "1": "Dan",
                                    "2": "Mountain View",
                                    "3": "Calgary"
                                },
                                {
                                    "0": "21",
                                    "1": "Kathy",
                                    "2": "Reno",
                                    "3": "Calgary"
                                },
                                {
                                    "0": "22",
                                    "1": "Heather",
                                    "2": "Orlando",
                                    "3": "Calgary"
                                },
                                {
                                    "0": "23",
                                    "1": "John",
                                    "2": "Boston",
                                    "3": "Calgary"
                                },
                                {
                                    "0": "24",
                                    "1": "Frank",
                                    "2": "Chicago",
                                    "3": "Calgary"
                                },
                                {
                                    "0": "25",
                                    "1": "Victor",
                                    "2": "Madison",
                                    "3": "Calgary"
                                },
                                {
                                    "0": "26",
                                    "1": "Richard",
                                    "2": "Fort Worth",
                                    "3": "Calgary"
                                },
                                {
                                    "0": "27",
                                    "1": "Patrick",
                                    "2": "Tucson",
                                    "3": "Calgary"
                                },
                                {
                                    "0": "28",
                                    "1": "Julia",
                                    "2": "Salt Lake City",
                                    "3": "Calgary"
                                },
                                {
                                    "0": "29",
                                    "1": "Robert",
                                    "2": "Toronto",
                                    "3": "Calgary"
                                },
                                {
                                    "0": "30",
                                    "1": "Edward",
                                    "2": "Ottawa",
                                    "3": "Calgary"
                                },
                                {
                                    "0": "31",
                                    "1": "Martha",
                                    "2": "Halifax",
                                    "3": "Calgary"
                                },
                                {
                                    "0": "32",
                                    "1": "Aaron",
                                    "2": "Winnipeg",
                                    "3": "Calgary"
                                },
                                {
                                    "0": "33",
                                    "1": "Ellie",
                                    "2": "Yellowknife",
                                    "3": "Calgary"
                                },
                                {
                                    "0": "34",
                                    "1": "João",
                                    "2": "Lisbon",
                                    "3": "Calgary"
                                },
                                {
                                    "0": "35",
                                    "1": "Madalena",
                                    "2": "Porto",
                                    "3": "Calgary"
                                },
                                {
                                    "0": "36",
                                    "1": "Hannah",
                                    "2": "Berlin",
                                    "3": "Calgary"
                                },
                                {
                                    "0": "37",
                                    "1": "Fynn",
                                    "2": "Frankfurt",
                                    "3": "Calgary"
                                },
                                {
                                    "0": "38",
                                    "1": "Niklas",
                                    "2": "Berlin",
                                    "3": "Calgary"
                                },
                                {
                                    "0": "39",
                                    "1": "Camille",
                                    "2": "Paris",
                                    "3": "Calgary"
                                },
                                {
                                    "0": "40",
                                    "1": "Dominique",
                                    "2": "Paris",
                                    "3": "Calgary"
                                },
                                {
                                    "0": "41",
                                    "1": "Marc",
                                    "2": "Lyon",
                                    "3": "Calgary"
                                },
                                {
                                    "0": "42",
                                    "1": "Wyatt",
                                    "2": "Bordeaux",
                                    "3": "Calgary"
                                },
                                {
                                    "0": "43",
                                    "1": "Isabelle",
                                    "2": "Dijon",
                                    "3": "Calgary"
                                },
                                {
                                    "0": "44",
                                    "1": "Terhi",
                                    "2": "Helsinki",
                                    "3": "Calgary"
                                },
                                {
                                    "0": "45",
                                    "1": "Ladislav",
                                    "2": "Budapest",
                                    "3": "Calgary"
                                },
                                {
                                    "0": "46",
                                    "1": "Hugh",
                                    "2": "Dublin",
                                    "3": "Calgary"
                                },
                                {
                                    "0": "47",
                                    "1": "Lucas",
                                    "2": "Rome",
                                    "3": "Calgary"
                                },
                                {
                                    "0": "48",
                                    "1": "Johannes",
                                    "2": "Amsterdam",
                                    "3": "Calgary"
                                },
                                {
                                    "0": "49",
                                    "1": "Stanisław",
                                    "2": "Warsaw",
                                    "3": "Calgary"
                                },
                                {
                                    "0": "50",
                                    "1": "Enrique",
                                    "2": "Madrid",
                                    "3": "Calgary"
                                },
                                {
                                    "0": "51",
                                    "1": "Joakim",
                                    "2": "Stockholm",
                                    "3": "Calgary"
                                },
                                {
                                    "0": "52",
                                    "1": "Emma",
                                    "2": "London",
                                    "3": "Calgary"
                                },
                                {
                                    "0": "53",
                                    "1": "Phil",
                                    "2": "London",
                                    "3": "Calgary"
                                },
                                {
                                    "0": "54",
                                    "1": "Steve",
                                    "2": "Edinburgh ",
                                    "3": "Calgary"
                                },
                                {
                                    "0": "55",
                                    "1": "Mark",
                                    "2": "Sidney",
                                    "3": "Calgary"
                                },
                                {
                                    "0": "56",
                                    "1": "Diego",
                                    "2": "Buenos Aires",
                                    "3": "Calgary"
                                },
                                {
                                    "0": "57",
                                    "1": "Luis",
                                    "2": "Santiago",
                                    "3": "Calgary"
                                },
                                {
                                    "0": "58",
                                    "1": "Manoj",
                                    "2": "Delhi",
                                    "3": "Calgary"
                                },
                                {
                                    "0": "59",
                                    "1": "Puja",
                                    "2": "Bangalore",
                                    "3": "Calgary"
                                }
                            ]
                        },
                        "text/html": "<table><tr><th>CustomerId</th><th>FirstName</th><th>City</th><th>City</th></tr><tr><td>1</td><td>Luís</td><td>São José dos Campos</td><td>Calgary</td></tr><tr><td>2</td><td>Leonie</td><td>Stuttgart</td><td>Calgary</td></tr><tr><td>3</td><td>François</td><td>Montréal</td><td>Calgary</td></tr><tr><td>4</td><td>Bjørn</td><td>Oslo</td><td>Calgary</td></tr><tr><td>5</td><td>František</td><td>Prague</td><td>Calgary</td></tr><tr><td>6</td><td>Helena</td><td>Prague</td><td>Calgary</td></tr><tr><td>7</td><td>Astrid</td><td>Vienne</td><td>Calgary</td></tr><tr><td>8</td><td>Daan</td><td>Brussels</td><td>Calgary</td></tr><tr><td>9</td><td>Kara</td><td>Copenhagen</td><td>Calgary</td></tr><tr><td>10</td><td>Eduardo</td><td>São Paulo</td><td>Calgary</td></tr><tr><td>11</td><td>Alexandre</td><td>São Paulo</td><td>Calgary</td></tr><tr><td>12</td><td>Roberto</td><td>Rio de Janeiro</td><td>Calgary</td></tr><tr><td>13</td><td>Fernanda</td><td>Brasília</td><td>Calgary</td></tr><tr><td>14</td><td>Mark</td><td>Edmonton</td><td>Calgary</td></tr><tr><td>15</td><td>Jennifer</td><td>Vancouver</td><td>Calgary</td></tr><tr><td>16</td><td>Frank</td><td>Mountain View</td><td>Calgary</td></tr><tr><td>17</td><td>Jack</td><td>Redmond</td><td>Calgary</td></tr><tr><td>18</td><td>Michelle</td><td>New York</td><td>Calgary</td></tr><tr><td>19</td><td>Tim</td><td>Cupertino</td><td>Calgary</td></tr><tr><td>20</td><td>Dan</td><td>Mountain View</td><td>Calgary</td></tr><tr><td>21</td><td>Kathy</td><td>Reno</td><td>Calgary</td></tr><tr><td>22</td><td>Heather</td><td>Orlando</td><td>Calgary</td></tr><tr><td>23</td><td>John</td><td>Boston</td><td>Calgary</td></tr><tr><td>24</td><td>Frank</td><td>Chicago</td><td>Calgary</td></tr><tr><td>25</td><td>Victor</td><td>Madison</td><td>Calgary</td></tr><tr><td>26</td><td>Richard</td><td>Fort Worth</td><td>Calgary</td></tr><tr><td>27</td><td>Patrick</td><td>Tucson</td><td>Calgary</td></tr><tr><td>28</td><td>Julia</td><td>Salt Lake City</td><td>Calgary</td></tr><tr><td>29</td><td>Robert</td><td>Toronto</td><td>Calgary</td></tr><tr><td>30</td><td>Edward</td><td>Ottawa</td><td>Calgary</td></tr><tr><td>31</td><td>Martha</td><td>Halifax</td><td>Calgary</td></tr><tr><td>32</td><td>Aaron</td><td>Winnipeg</td><td>Calgary</td></tr><tr><td>33</td><td>Ellie</td><td>Yellowknife</td><td>Calgary</td></tr><tr><td>34</td><td>João</td><td>Lisbon</td><td>Calgary</td></tr><tr><td>35</td><td>Madalena</td><td>Porto</td><td>Calgary</td></tr><tr><td>36</td><td>Hannah</td><td>Berlin</td><td>Calgary</td></tr><tr><td>37</td><td>Fynn</td><td>Frankfurt</td><td>Calgary</td></tr><tr><td>38</td><td>Niklas</td><td>Berlin</td><td>Calgary</td></tr><tr><td>39</td><td>Camille</td><td>Paris</td><td>Calgary</td></tr><tr><td>40</td><td>Dominique</td><td>Paris</td><td>Calgary</td></tr><tr><td>41</td><td>Marc</td><td>Lyon</td><td>Calgary</td></tr><tr><td>42</td><td>Wyatt</td><td>Bordeaux</td><td>Calgary</td></tr><tr><td>43</td><td>Isabelle</td><td>Dijon</td><td>Calgary</td></tr><tr><td>44</td><td>Terhi</td><td>Helsinki</td><td>Calgary</td></tr><tr><td>45</td><td>Ladislav</td><td>Budapest</td><td>Calgary</td></tr><tr><td>46</td><td>Hugh</td><td>Dublin</td><td>Calgary</td></tr><tr><td>47</td><td>Lucas</td><td>Rome</td><td>Calgary</td></tr><tr><td>48</td><td>Johannes</td><td>Amsterdam</td><td>Calgary</td></tr><tr><td>49</td><td>Stanisław</td><td>Warsaw</td><td>Calgary</td></tr><tr><td>50</td><td>Enrique</td><td>Madrid</td><td>Calgary</td></tr><tr><td>51</td><td>Joakim</td><td>Stockholm</td><td>Calgary</td></tr><tr><td>52</td><td>Emma</td><td>London</td><td>Calgary</td></tr><tr><td>53</td><td>Phil</td><td>London</td><td>Calgary</td></tr><tr><td>54</td><td>Steve</td><td>Edinburgh </td><td>Calgary</td></tr><tr><td>55</td><td>Mark</td><td>Sidney</td><td>Calgary</td></tr><tr><td>56</td><td>Diego</td><td>Buenos Aires</td><td>Calgary</td></tr><tr><td>57</td><td>Luis</td><td>Santiago</td><td>Calgary</td></tr><tr><td>58</td><td>Manoj</td><td>Delhi</td><td>Calgary</td></tr><tr><td>59</td><td>Puja</td><td>Bangalore</td><td>Calgary</td></tr></table>"
                    },
                    "metadata": {}
                }
            ],
            "execution_count": 139
        }
    ]
}